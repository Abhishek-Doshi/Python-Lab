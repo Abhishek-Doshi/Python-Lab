{
 "cells": [
  {
   "cell_type": "code",
   "execution_count": 1,
   "metadata": {},
   "outputs": [],
   "source": [
    "import math\n",
    "def get_a_b(A):\n",
    "    squares = []\n",
    "    solutions = []\n",
    "    for i in range(int(math.sqrt(A)) + 1):\n",
    "        squares.append(i**2)\n",
    "    for a_sq in squares:\n",
    "        if (A-a_sq) in squares and (a_sq <= (A-a_sq)):\n",
    "            solutions.append((int(math.sqrt(a_sq)), int(math.sqrt(A-a_sq))))\n",
    "    return solutions"
   ]
  },
  {
   "cell_type": "code",
   "execution_count": 2,
   "metadata": {},
   "outputs": [
    {
     "name": "stdout",
     "output_type": "stream",
     "text": [
      "[(10, 30), (18, 26)]\n"
     ]
    }
   ],
   "source": [
    "solutions = get_a_b(1000)\n",
    "print(solutions)"
   ]
  },
  {
   "cell_type": "code",
   "execution_count": null,
   "metadata": {},
   "outputs": [],
   "source": []
  }
 ],
 "metadata": {
  "kernelspec": {
   "display_name": "Python 3",
   "language": "python",
   "name": "python3"
  },
  "language_info": {
   "codemirror_mode": {
    "name": "ipython",
    "version": 3
   },
   "file_extension": ".py",
   "mimetype": "text/x-python",
   "name": "python",
   "nbconvert_exporter": "python",
   "pygments_lexer": "ipython3",
   "version": "3.6.8"
  }
 },
 "nbformat": 4,
 "nbformat_minor": 2
}
