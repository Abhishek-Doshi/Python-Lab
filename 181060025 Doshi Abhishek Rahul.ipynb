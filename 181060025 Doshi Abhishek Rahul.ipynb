{
 "cells": [
  {
   "cell_type": "code",
   "execution_count": 1,
   "metadata": {},
   "outputs": [],
   "source": [
    "def take_user_input():\n",
    "    n = int(input())\n",
    "    list = []\n",
    "    for i in range(n):\n",
    "        list.append(int(input()))\n",
    "    return list"
   ]
  },
  {
   "cell_type": "code",
   "execution_count": 2,
   "metadata": {},
   "outputs": [],
   "source": [
    "def check_list(list):\n",
    "    \n",
    "    diff = [-1]\n",
    "    for i in range(len(list)-1):\n",
    "        diff.append(list[i+1]-list[i])\n",
    "    diff.append(1)\n",
    "    \n",
    "    break_point = 0\n",
    "    for i in range(len(diff)-1):\n",
    "        break_point = i\n",
    "        if (diff[i]>0):\n",
    "            if(diff[i+1]<=0):\n",
    "                break\n",
    "    \n",
    "    if (break_point == len(diff)-2):\n",
    "        print(\"true\")\n",
    "    else:\n",
    "        print(\"false\")"
   ]
  },
  {
   "cell_type": "code",
   "execution_count": 4,
   "metadata": {},
   "outputs": [
    {
     "name": "stdout",
     "output_type": "stream",
     "text": [
      "9\n",
      "4\n",
      "6\n",
      "2\n",
      "3\n",
      "4\n",
      "3\n",
      "8\n",
      "6\n",
      "2\n",
      "false\n"
     ]
    }
   ],
   "source": [
    "list = take_user_input()\n",
    "check_list(list)"
   ]
  },
  {
   "cell_type": "code",
   "execution_count": null,
   "metadata": {},
   "outputs": [],
   "source": []
  }
 ],
 "metadata": {
  "kernelspec": {
   "display_name": "Python 3",
   "language": "python",
   "name": "python3"
  },
  "language_info": {
   "codemirror_mode": {
    "name": "ipython",
    "version": 3
   },
   "file_extension": ".py",
   "mimetype": "text/x-python",
   "name": "python",
   "nbconvert_exporter": "python",
   "pygments_lexer": "ipython3",
   "version": "3.6.8"
  }
 },
 "nbformat": 4,
 "nbformat_minor": 2
}
