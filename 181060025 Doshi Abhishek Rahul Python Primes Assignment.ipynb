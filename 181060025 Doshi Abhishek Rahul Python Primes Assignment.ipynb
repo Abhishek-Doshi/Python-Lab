{
 "cells": [
  {
   "cell_type": "code",
   "execution_count": 1,
   "metadata": {},
   "outputs": [],
   "source": [
    "def generate_primes(m, n):\n",
    "    \n",
    "    prime = [True for i in range(n+1)]\n",
    "    prime[0] = False\n",
    "    prime[1] = False\n",
    "    p = 2\n",
    "    while (p*p <= n): \n",
    "        if (prime[p] == True): \n",
    "            for i in range(p*p, n+1, p): \n",
    "                prime[i] = False\n",
    "        p += 1\n",
    "\n",
    "    prime_list = []\n",
    "    for i in range(m, n+1):\n",
    "        if (prime[i] == True):\n",
    "            prime_list.append(i)\n",
    "    return prime_list"
   ]
  },
  {
   "cell_type": "code",
   "execution_count": 2,
   "metadata": {},
   "outputs": [],
   "source": [
    "def io_format():\n",
    "    t = int(input())\n",
    "    m = []\n",
    "    n = []\n",
    "    for i in range(t):\n",
    "        _m, _n = str(input()).split()\n",
    "        m.append(int(_m))\n",
    "        n.append(int(_n))\n",
    "    for i in range(t):    \n",
    "        primes = generate_primes(m[i], n[i])\n",
    "        [print(prime, end=' ') for prime in primes]\n",
    "        print('\\n')"
   ]
  },
  {
   "cell_type": "code",
   "execution_count": 4,
   "metadata": {},
   "outputs": [
    {
     "name": "stdout",
     "output_type": "stream",
     "text": [
      "3\n",
      "1 10\n",
      "45 90\n",
      "100 175\n",
      "2 3 5 7 \n",
      "\n",
      "47 53 59 61 67 71 73 79 83 89 \n",
      "\n",
      "101 103 107 109 113 127 131 137 139 149 151 157 163 167 173 \n",
      "\n"
     ]
    }
   ],
   "source": [
    "io_format()"
   ]
  },
  {
   "cell_type": "code",
   "execution_count": null,
   "metadata": {},
   "outputs": [],
   "source": []
  }
 ],
 "metadata": {
  "kernelspec": {
   "display_name": "Python 3",
   "language": "python",
   "name": "python3"
  },
  "language_info": {
   "codemirror_mode": {
    "name": "ipython",
    "version": 3
   },
   "file_extension": ".py",
   "mimetype": "text/x-python",
   "name": "python",
   "nbconvert_exporter": "python",
   "pygments_lexer": "ipython3",
   "version": "3.6.8"
  }
 },
 "nbformat": 4,
 "nbformat_minor": 2
}
